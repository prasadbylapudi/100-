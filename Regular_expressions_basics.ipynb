{
 "cells": [
  {
   "cell_type": "markdown",
   "metadata": {},
   "source": [
    "# Regular Expression\n",
    "regular expression is a sequence of characters that forms a sequence of pattern\n",
    "Regex can be used to check if the string contains specified search pattern\n",
    "# Metacharacters\n",
    "it has special meaning during pattern processing\n",
    "metacharacters can be used in regex to define the search criteria and any text manipulations."
   ]
  },
  {
   "cell_type": "code",
   "execution_count": 6,
   "metadata": {},
   "outputs": [
    {
     "name": "stdout",
     "output_type": "stream",
     "text": [
      "re.compile('hello')\n",
      "<re.Match object; span=(0, 5), match='hello'>\n"
     ]
    }
   ],
   "source": [
    "import re\n",
    "#dir(re)\n",
    "#defining a pattern\n",
    "text =\"hellow there how are youa all\"\n",
    "pattern=re.compile(r'hello')\n",
    "print(pattern)\n",
    "#match\n",
    "match=pattern.match(text)          # the match() method only works with the beginning not for middle and end\n",
    "print(match)"
   ]
  },
  {
   "cell_type": "markdown",
   "metadata": {},
   "source": [
    "# Splitting Text Using RegEx Split"
   ]
  },
  {
   "cell_type": "code",
   "execution_count": 7,
   "metadata": {},
   "outputs": [
    {
     "name": "stdout",
     "output_type": "stream",
     "text": [
      "['Hello hi .', 'I am prasad bylapudi I love programming.', 'I wanna be a software engineer.', 'Thanks you all.']\n"
     ]
    }
   ],
   "source": [
    "import re\n",
    "\n",
    "txt = '''Hello hi .\n",
    "I am prasad bylapudi I love programming.\n",
    "I wanna be a software engineer.\n",
    "Thanks you all.'''\n",
    "print(re.split('\\n', txt)) # splitting using \\n - end of line symbol"
   ]
  },
  {
   "cell_type": "markdown",
   "metadata": {},
   "source": [
    "# find the matches of pattern\n",
    "# findall method"
   ]
  },
  {
   "cell_type": "code",
   "execution_count": 8,
   "metadata": {},
   "outputs": [
    {
     "name": "stdout",
     "output_type": "stream",
     "text": [
      "<class 'list'>\n"
     ]
    },
    {
     "data": {
      "text/plain": [
       "['hellow', 'there', 'how', 'are', 'youa', 'all']"
      ]
     },
     "execution_count": 8,
     "metadata": {},
     "output_type": "execute_result"
    }
   ],
   "source": [
    "pattern=re.compile(r'\\w+') # + symbol is for one or more occurances\n",
    "match=pattern.findall(text)\n",
    "print(type(match))\n",
    "match"
   ]
  }
 ],
 "metadata": {
  "kernelspec": {
   "display_name": "Python 3",
   "language": "python",
   "name": "python3"
  },
  "language_info": {
   "codemirror_mode": {
    "name": "ipython",
    "version": 3
   },
   "file_extension": ".py",
   "mimetype": "text/x-python",
   "name": "python",
   "nbconvert_exporter": "python",
   "pygments_lexer": "ipython3",
   "version": "3.7.4"
  }
 },
 "nbformat": 4,
 "nbformat_minor": 2
}
