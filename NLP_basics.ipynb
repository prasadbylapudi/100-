{
 "cells": [
  {
   "cell_type": "markdown",
   "metadata": {},
   "source": [
    "# tokenization"
   ]
  },
  {
   "cell_type": "code",
   "execution_count": 4,
   "metadata": {
    "scrolled": true
   },
   "outputs": [
    {
     "name": "stdout",
     "output_type": "stream",
     "text": [
      "['Hi', 'there', 'How', 'are', 'you', 'all.I', \"'m\", 'prasad', 'Bylapudi', 'and', 'now', 'I', \"'m\", 'gon', 'na', 'tell', 'you', 'the', 'how', 'important', 'the', 'education', 'is', '?', 'ok']\n"
     ]
    }
   ],
   "source": [
    "import nltk\n",
    "from nltk.tokenize import sent_tokenize,word_tokenize\n",
    "example_text=\"Hi there How are you all.I'm prasad Bylapudi and now I'm gonna tell you the how important the education is? ok\"\n",
    "#print(sent_tokenize(example_text))\n",
    "a=word_tokenize(example_text)\n",
    "print(a)\n"
   ]
  },
  {
   "cell_type": "markdown",
   "metadata": {},
   "source": [
    "# Stop words"
   ]
  },
  {
   "cell_type": "code",
   "execution_count": 16,
   "metadata": {},
   "outputs": [
    {
     "name": "stdout",
     "output_type": "stream",
     "text": [
      "['i', 'me', 'my', 'myself', 'we', 'our', 'ours', 'ourselves', 'you', \"you're\", \"you've\", \"you'll\", \"you'd\", 'your', 'yours', 'yourself', 'yourselves', 'he', 'him', 'his', 'himself', 'she', \"she's\", 'her', 'hers', 'herself', 'it', \"it's\", 'its', 'itself', 'they', 'them', 'their', 'theirs', 'themselves', 'what', 'which', 'who', 'whom', 'this', 'that', \"that'll\", 'these', 'those', 'am', 'is', 'are', 'was', 'were', 'be', 'been', 'being', 'have', 'has', 'had', 'having', 'do', 'does', 'did', 'doing', 'a', 'an', 'the', 'and', 'but', 'if', 'or', 'because', 'as', 'until', 'while', 'of', 'at', 'by', 'for', 'with', 'about', 'against', 'between', 'into', 'through', 'during', 'before', 'after', 'above', 'below', 'to', 'from', 'up', 'down', 'in', 'out', 'on', 'off', 'over', 'under', 'again', 'further', 'then', 'once', 'here', 'there', 'when', 'where', 'why', 'how', 'all', 'any', 'both', 'each', 'few', 'more', 'most', 'other', 'some', 'such', 'no', 'nor', 'not', 'only', 'own', 'same', 'so', 'than', 'too', 'very', 's', 't', 'can', 'will', 'just', 'don', \"don't\", 'should', \"should've\", 'now', 'd', 'll', 'm', 'o', 're', 've', 'y', 'ain', 'aren', \"aren't\", 'couldn', \"couldn't\", 'didn', \"didn't\", 'doesn', \"doesn't\", 'hadn', \"hadn't\", 'hasn', \"hasn't\", 'haven', \"haven't\", 'isn', \"isn't\", 'ma', 'mightn', \"mightn't\", 'mustn', \"mustn't\", 'needn', \"needn't\", 'shan', \"shan't\", 'shouldn', \"shouldn't\", 'wasn', \"wasn't\", 'weren', \"weren't\", 'won', \"won't\", 'wouldn', \"wouldn't\"]\n"
     ]
    }
   ],
   "source": [
    "import nltk\n",
    "from nltk.corpus import stopwords\n",
    "print(stopwords.words('english'))\n"
   ]
  },
  {
   "cell_type": "markdown",
   "metadata": {},
   "source": [
    "# Removing stopwords for text"
   ]
  },
  {
   "cell_type": "code",
   "execution_count": 3,
   "metadata": {},
   "outputs": [
    {
     "data": {
      "text/plain": [
       "['cool', 'guy', '.', 'good', 'coding']"
      ]
     },
     "execution_count": 3,
     "metadata": {},
     "output_type": "execute_result"
    }
   ],
   "source": [
    "import nltk\n",
    "from nltk.corpus import stopwords\n",
    "from nltk.tokenize import sent_tokenize,word_tokenize\n",
    "text = 'he is a cool guy. he is very good in coding'\n",
    "text = word_tokenize(text)\n",
    "text_with_no_stopwords = [word for word in text if word not in stopwords.words('english')]\n",
    "text_with_no_stopwords"
   ]
  },
  {
   "cell_type": "markdown",
   "metadata": {},
   "source": [
    "# Stemming"
   ]
  },
  {
   "cell_type": "code",
   "execution_count": 24,
   "metadata": {},
   "outputs": [
    {
     "name": "stdout",
     "output_type": "stream",
     "text": [
      "earn\n",
      "earn\n",
      "earn\n",
      "earn\n",
      "learn\n",
      "learn\n",
      "learn\n",
      "learnt\n"
     ]
    }
   ],
   "source": [
    "from nltk.stem import PorterStemmer\n",
    "#dir(nltk.stem)\n",
    "ps=PorterStemmer()\n",
    "str1=\"He goes to theatres everytime\"\n",
    "example_words=['earn','earning','earned','earnings','learn','learnings','learned','learnt']\n",
    "for i in example_words:\n",
    "    print(ps.stem(i))\n"
   ]
  },
  {
   "cell_type": "markdown",
   "metadata": {},
   "source": [
    "#  Lemmatizing\n",
    "# It is Mostly used when designing chatbots, Q&A bots, text prediction, etc."
   ]
  },
  {
   "cell_type": "code",
   "execution_count": 25,
   "metadata": {},
   "outputs": [
    {
     "name": "stdout",
     "output_type": "stream",
     "text": [
      "history\n",
      "formality\n",
      "change\n"
     ]
    }
   ],
   "source": [
    "from nltk.stem import WordNetLemmatizer\n",
    "lemmatizer = WordNetLemmatizer() ## Create object for lemmatizer\n",
    "example_words = ['history','formality','changes']\n",
    "for w in example_words:\n",
    "    print(lemmatizer.lemmatize(w))"
   ]
  },
  {
   "cell_type": "markdown",
   "metadata": {},
   "source": [
    "# WordNet"
   ]
  },
  {
   "cell_type": "code",
   "execution_count": 28,
   "metadata": {},
   "outputs": [
    {
     "name": "stdout",
     "output_type": "stream",
     "text": [
      "{'raging', 'angry', 'wild', 'tempestuous', 'furious'}\n",
      "{'unangry'}\n"
     ]
    }
   ],
   "source": [
    "#WordNet is the lexical database i.e. dictionary for the English language, \n",
    "#specifically designed for natural language processing.\n",
    "#We can use wordnet for finding synonyms and antonyms.\n",
    "from nltk.corpus import wordnet\n",
    "\n",
    "synonyms = []   ## Creaing an empty list for all the synonyms\n",
    "antonyms =[]    ## Creaing an empty list for all the antonyms\n",
    "for syn in wordnet.synsets(\"angry\"): ## Giving word \n",
    "    for i in syn.lemmas():        ## Finding the lemma,matching \n",
    "        synonyms.append(i.name())  ## appending all the synonyms       \n",
    "        if i.antonyms():\n",
    "            antonyms.append(i.antonyms()[0].name()) ## antonyms\n",
    "print(set(synonyms)) ## Converting them into set for unique values\n",
    "print(set(antonyms))"
   ]
  },
  {
   "cell_type": "markdown",
   "metadata": {},
   "source": [
    "# pos tagging\n",
    "#nltk.help.upenn_tagset('RB') to get the help . if it's a noun, adeverb, adjective etc."
   ]
  },
  {
   "cell_type": "code",
   "execution_count": 30,
   "metadata": {},
   "outputs": [
    {
     "name": "stdout",
     "output_type": "stream",
     "text": [
      "[('hi', 'VB'), ('how', 'WRB'), ('are', 'VBP'), ('you', 'PRP'), ('all', 'DT'), ('in', 'IN'), ('this', 'DT'), ('we', 'PRP'), ('are', 'VBP'), ('all', 'DT'), ('going', 'VBG'), ('to', 'TO'), ('look', 'VB'), ('at', 'IN'), ('the', 'DT'), ('pos', 'NN'), ('tagging', 'VBG'), ('in', 'IN'), ('nlp', 'NN')]\n",
      "DT: determiner\n",
      "    all an another any both del each either every half la many much nary\n",
      "    neither no some such that the them these this those\n",
      "VBP: verb, present tense, not 3rd person singular\n",
      "    predominate wrap resort sue twist spill cure lengthen brush terminate\n",
      "    appear tend stray glisten obtain comprise detest tease attract\n",
      "    emphasize mold postpone sever return wag ...\n",
      "NN: noun, common, singular or mass\n",
      "    common-carrier cabbage knuckle-duster Casino afghan shed thermostat\n",
      "    investment slide humour falloff slick wind hyena override subhumanity\n",
      "    machinist ...\n",
      "TO: \"to\" as preposition or infinitive marker\n",
      "    to\n"
     ]
    }
   ],
   "source": [
    "import nltk\n",
    "from nltk.tokenize import word_tokenize\n",
    "text=word_tokenize(\"hi how are you all in this we are all going to look at the pos tagging in nlp\")\n",
    "print(nltk.pos_tag(text))\n",
    "\n",
    "nltk.help.upenn_tagset('DT')\n",
    "nltk.help.upenn_tagset('VBP')\n",
    "nltk.help.upenn_tagset('NN')\n",
    "nltk.help.upenn_tagset('TO')"
   ]
  },
  {
   "cell_type": "markdown",
   "metadata": {},
   "source": [
    "from the above ouput we don't konw all these parts of speech what is VB, WRB, DT, IN , DT, NN\n",
    "to know all these we use this command nltk.help.uppen_tagset('RB')"
   ]
  },
  {
   "cell_type": "markdown",
   "metadata": {},
   "source": [
    "# Minimum edit distance"
   ]
  },
  {
   "cell_type": "code",
   "execution_count": 1,
   "metadata": {},
   "outputs": [
    {
     "name": "stdout",
     "output_type": "stream",
     "text": [
      "1\n"
     ]
    }
   ],
   "source": [
    "# A Dynamic Programming based Python program for edit\n",
    "# distance problem\n",
    "\n",
    "\n",
    "def editDistDP(str1, str2, m, n):\n",
    "\t# Create a table to store results of subproblems\n",
    "\tdp = [[0 for x in range(n + 1)] for x in range(m + 1)]\n",
    "\n",
    "\t# Fill d[][] in bottom up manner\n",
    "\tfor i in range(m + 1):\n",
    "\t\tfor j in range(n + 1):\n",
    "\n",
    "\t\t\t# If first string is empty, only option is to\n",
    "\t\t\t# insert all characters of second string\n",
    "\t\t\tif i == 0:\n",
    "\t\t\t\tdp[i][j] = j # Min. operations = j\n",
    "\n",
    "\t\t\t# If second string is empty, only option is to\n",
    "\t\t\t# remove all characters of second string\n",
    "\t\t\telif j == 0:\n",
    "\t\t\t\tdp[i][j] = i # Min. operations = i\n",
    "\n",
    "\t\t\t# If last characters are same, ignore last char\n",
    "\t\t\t# and recur for remaining string\n",
    "\t\t\telif str1[i-1] == str2[j-1]:\n",
    "\t\t\t\tdp[i][j] = dp[i-1][j-1]\n",
    "\n",
    "\t\t\t# If last character are different, consider all\n",
    "\t\t\t# possibilities and find minimum\n",
    "\t\t\telse:\n",
    "\t\t\t\tdp[i][j] = 1 + min(dp[i][j-1],\t # Insert\n",
    "\t\t\t\t\t\t\t\tdp[i-1][j],\t # Remove\n",
    "\t\t\t\t\t\t\t\tdp[i-1][j-1]) # Replace\n",
    "\n",
    "\treturn dp[m][n]\n",
    "\n",
    "\n",
    "# Driver code\n",
    "str1 = \"apple\"\n",
    "str2 = \"apples\"\n",
    "\n",
    "print(editDistDP(str1, str2, len(str1), len(str2)))"
   ]
  },
  {
   "cell_type": "markdown",
   "metadata": {},
   "source": [
    "\n",
    "# yaml file\n",
    "YAML is a human-readable data serialization standard that can be used in conjunction with all programming languages and is often used to write configuration files.\n",
    "# corpus\n",
    "A corpus can be defined as a collection of text documents. It can be thought as just a bunch of text files in a directory, often alongside many other directories of text files.\n",
    "We can also create a custom nltk_data directory in our home directory and verify that it is in the list of known paths specified by nltk.data.path.\n"
   ]
  },
  {
   "cell_type": "code",
   "execution_count": 20,
   "metadata": {},
   "outputs": [],
   "source": [
    "import nltk.data\n",
    "#loading file path\n",
    "#nltk.data.load('corpora/cookbook/synonyms.yaml') \n"
   ]
  },
  {
   "cell_type": "markdown",
   "metadata": {},
   "source": [
    "# Bigrams\n",
    "Bigrams are two consecutive words that occur in a text. like harry potter we should not split into separate it will change meaning."
   ]
  },
  {
   "cell_type": "code",
   "execution_count": 31,
   "metadata": {},
   "outputs": [],
   "source": [
    "import nltk\n",
    "from nltk.corpus import webtext, stopwords\n",
    "from nltk import bigrams\n",
    "text_words=[w.lower() for w in webtext.words('pirates.txt')]\n",
    "\n",
    "stop_words=set(stopwords.words('english'))\n",
    "filtered_word=[]\n",
    "for w in text_words:\n",
    "    if w not in stop_words:\n",
    "        if len(w)>3:\n",
    "            filtered_word.append(w)"
   ]
  }
 ],
 "metadata": {
  "kernelspec": {
   "display_name": "Python 3",
   "language": "python",
   "name": "python3"
  },
  "language_info": {
   "codemirror_mode": {
    "name": "ipython",
    "version": 3
   },
   "file_extension": ".py",
   "mimetype": "text/x-python",
   "name": "python",
   "nbconvert_exporter": "python",
   "pygments_lexer": "ipython3",
   "version": "3.7.4"
  }
 },
 "nbformat": 4,
 "nbformat_minor": 2
}
